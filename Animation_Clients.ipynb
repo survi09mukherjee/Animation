{
  "nbformat": 4,
  "nbformat_minor": 0,
  "metadata": {
    "colab": {
      "provenance": [],
      "authorship_tag": "ABX9TyMDIWFrZWFTuNo54Fr4NMG5",
      "include_colab_link": true
    },
    "kernelspec": {
      "name": "python3",
      "display_name": "Python 3"
    },
    "language_info": {
      "name": "python"
    }
  },
  "cells": [
    {
      "cell_type": "markdown",
      "metadata": {
        "id": "view-in-github",
        "colab_type": "text"
      },
      "source": [
        "<a href=\"https://colab.research.google.com/github/survi09mukherjee/Animation/blob/main/Animation_Clients.ipynb\" target=\"_parent\"><img src=\"https://colab.research.google.com/assets/colab-badge.svg\" alt=\"Open In Colab\"/></a>"
      ]
    },
    {
      "cell_type": "code",
      "execution_count": null,
      "metadata": {
        "id": "RTZj6YSxvbLq",
        "outputId": "cfd48e76-ca2c-4474-b09f-562e23976372",
        "colab": {
          "base_uri": "https://localhost:8080/"
        }
      },
      "outputs": [
        {
          "output_type": "stream",
          "name": "stdout",
          "text": [
            "{\"clients\": [{\"isManager\": true, \"id\": 1, \"label\": \"Client1\"}, {\"isManager\": false, \"id\": 2, \"label\": \"Client2\"}, {\"isManager\": false, \"id\": 3, \"label\": \"Client3\"}, {\"isManager\": false, \"id\": 4, \"label\": \"Client4\"}, {\"isManager\": false, \"id\": 5, \"label\": \"Client5\"}], \"data\": {\"1\": {\"address\": \"NY\", \"name\": \"Jhon\", \"points\": 123}, \"2\": {\"address\": \"NY\", \"name\": \"Dan\", \"points\": 123}, \"3\": {\"address\": \"NY\", \"name\": \"Ben\", \"points\": 123}}, \"label\": \"All Clients\"}\n"
          ]
        }
      ],
      "source": [
        "import json\n",
        "d={\n",
        "    'clients':\n",
        "        [\n",
        "            {\n",
        "                'isManager': True,\n",
        "                'id':1,\n",
        "                'label':'Client1',\n",
        "            },\n",
        "            {\n",
        "              'isManager': False,\n",
        "                'id':2,\n",
        "                'label':'Client2',\n",
        "            },\n",
        "            {\n",
        "                'isManager': False,\n",
        "                'id':3,\n",
        "                'label':'Client3',\n",
        "            },\n",
        "            {\n",
        "                'isManager': False,\n",
        "                'id':4,\n",
        "                'label':'Client4',\n",
        "            },\n",
        "            {\n",
        "                'isManager': False,\n",
        "                'id':5,\n",
        "                'label':'Client5',\n",
        "            }\n",
        "            ],\n",
        "            'data':\n",
        "                {\n",
        "                    '1':\n",
        "                        {\n",
        "                            'address':'NY',\n",
        "                            'name':'Jhon',\n",
        "                            'points':123\n",
        "                        },\n",
        "                         '2':\n",
        "                        {\n",
        "                            'address':'NY',\n",
        "                            'name':'Dan',\n",
        "                            'points':123\n",
        "                        },\n",
        "                         '3':\n",
        "                        {\n",
        "                            'address':'NY',\n",
        "                            'name':'Ben',\n",
        "                            'points':123\n",
        "                        }\n",
        "                },\n",
        "                'label':'All Clients'\n",
        "}\n",
        "f=json.dumps(d)\n",
        "print(f)"
      ]
    }
  ]
}