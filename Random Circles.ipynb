{
  "nbformat": 4,
  "nbformat_minor": 0,
  "metadata": {
    "colab": {
      "provenance": [],
      "authorship_tag": "ABX9TyOvY23mpOeyWlY/lwBoYeUT"
    },
    "kernelspec": {
      "name": "python3",
      "display_name": "Python 3"
    },
    "language_info": {
      "name": "python"
    }
  },
  "cells": [
    {
      "cell_type": "code",
      "source": [
        "import tkinter\n",
        "import  random\n",
        "CANVAS_WIDTH = 800\n",
        "CANVAS_HEIGHT = 600\n",
        "\n",
        "class WINDOW():\n",
        "    \"\"\"Creates the main window that displays the random circles\"\"\"\n",
        "    def __init__(self):\n",
        "        \"\"\"Runs when main window is created\"\"\"\n",
        "        self.main_window = tkinter.Tk()\n",
        "        self.canvas = tkinter.Canvas(self.main_window, width = CANVAS_WIDTH, height = CANVAS_HEIGHT)\n",
        "        self.canvas.pack()\n",
        "        self.canvas.create_oval(0,0,100,100,fill=\"red\")\n",
        "        self.main_window.mainloop()\n",
        "w = WINDOW()"
      ],
      "metadata": {
        "id": "lfDeFWAAycR5"
      },
      "execution_count": null,
      "outputs": []
    }
  ]
}